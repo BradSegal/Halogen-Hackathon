{
 "cells": [
  {
   "cell_type": "markdown",
   "metadata": {},
   "source": [
    "# Data Validation: Anatomical Registration Verification\n",
    "\n",
    "This notebook verifies that lesion maps are properly registered to the standard MNI space by visualizing the mean lesion map overlaid on the MNI template."
   ]
  },
  {
   "cell_type": "code",
   "execution_count": null,
   "metadata": {},
   "outputs": [],
   "source": [
    "import pandas as pd\n",
    "import numpy as np\n",
    "import nibabel as nib\n",
    "from nilearn import image, plotting, datasets\n",
    "from pathlib import Path"
   ]
  },
  {
   "cell_type": "code",
   "execution_count": null,
   "metadata": {},
   "outputs": [],
   "source": [
    "# Load a sample of the data\n",
    "train_df = pd.read_csv(\"../data/processed/train.csv\")\n",
    "sample_df = train_df.sample(n=100, random_state=42)\n",
    "\n",
    "print(f\"Loaded {len(train_df)} training samples\")\n",
    "print(f\"Using {len(sample_df)} samples for visualization\")"
   ]
  },
  {
   "cell_type": "code",
   "execution_count": null,
   "metadata": {},
   "outputs": [],
   "source": [
    "# Compute the mean of the lesion maps\n",
    "mean_lesion_img = image.mean_img(sample_df['lesion_filepath'].tolist())\n",
    "\n",
    "print(\"Mean lesion image computed successfully\")\n",
    "print(f\"Image shape: {mean_lesion_img.shape}\")\n",
    "print(f\"Image affine: {mean_lesion_img.affine}\")"
   ]
  },
  {
   "cell_type": "code",
   "execution_count": null,
   "metadata": {},
   "outputs": [],
   "source": [
    "# Load the MNI template\n",
    "mni_template = datasets.load_mni152_template(resolution=2)\n",
    "\n",
    "print(\"MNI template loaded successfully\")\n",
    "print(f\"Template shape: {mni_template.shape}\")\n",
    "print(f\"Template affine: {mni_template.affine}\")"
   ]
  },
  {
   "cell_type": "code",
   "execution_count": null,
   "metadata": {},
   "outputs": [],
   "source": [
    "# Plot the overlay\n",
    "print(\"Plotting mean lesion map on MNI template...\")\n",
    "plotting.plot_stat_map(\n",
    "    mean_lesion_img,\n",
    "    bg_img=mni_template,\n",
    "    title=\"Mean Lesion Map Overlay (100 Samples)\",\n",
    "    display_mode=\"z\",\n",
    "    cut_coords=8,\n",
    "    threshold=0.01, # Threshold to show only regions with >1% lesion frequency\n",
    "    colorbar=True,\n",
    ")\n",
    "plotting.show()"
   ]
  },
  {
   "cell_type": "markdown",
   "metadata": {},
   "source": [
    "## Validation Results\n",
    "\n",
    "**Expected Outcome:** The mean lesion map should appear as a \"cloud\" clearly situated within the brain boundaries of the MNI template, respecting major anatomical structures.\n",
    "\n",
    "**Action Required:** Visually inspect the plot above. If the lesion cloud is shifted, nonsensical, or doesn't respect anatomical boundaries, this indicates a critical data quality issue that must be addressed before proceeding with atlas-based modeling."
   ]
  }
 ],
 "metadata": {
  "kernelspec": {
   "display_name": "Python 3",
   "language": "python",
   "name": "python3"
  },
  "language_info": {
   "codemirror_mode": {
    "name": "ipython",
    "version": 3
   },
   "file_extension": ".py",
   "name": "python",
   "nbconvert_exporter": "python",
   "pygments_lexer": "ipython3",
   "version": "3.8.5"
  }
 },
 "nbformat": 4,
 "nbformat_minor": 4
}